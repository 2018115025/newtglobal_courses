{
 "cells": [
  {
   "cell_type": "code",
   "execution_count": 1,
   "id": "d6c202ea",
   "metadata": {},
   "outputs": [],
   "source": [
    "from pyspark.sql import SparkSession"
   ]
  },
  {
   "cell_type": "code",
   "execution_count": 3,
   "id": "fdf14ea9",
   "metadata": {},
   "outputs": [],
   "source": [
    "spark=SparkSession.builder.appName('ops').getOrCreate()"
   ]
  },
  {
   "cell_type": "code",
   "execution_count": 5,
   "id": "181d65ed",
   "metadata": {},
   "outputs": [],
   "source": [
    "df=spark.read.csv('mydata.csv',inferSchema=True,header=True)"
   ]
  },
  {
   "cell_type": "code",
   "execution_count": 6,
   "id": "00d2c366",
   "metadata": {},
   "outputs": [
    {
     "name": "stdout",
     "output_type": "stream",
     "text": [
      "+-----+-----+\n",
      "| name|sales|\n",
      "+-----+-----+\n",
      "| John|  100|\n",
      "|Cindy|   86|\n",
      "| Carl|  230|\n",
      "+-----+-----+\n",
      "\n"
     ]
    }
   ],
   "source": [
    "df.show()"
   ]
  },
  {
   "cell_type": "code",
   "execution_count": 7,
   "id": "418a2458",
   "metadata": {},
   "outputs": [
    {
     "name": "stdout",
     "output_type": "stream",
     "text": [
      "+-----+-----+\n",
      "| name|sales|\n",
      "+-----+-----+\n",
      "|Cindy|   86|\n",
      "+-----+-----+\n",
      "\n"
     ]
    }
   ],
   "source": [
    "df.filter(\"sales<90\").show()"
   ]
  },
  {
   "cell_type": "code",
   "execution_count": 10,
   "id": "5e237406",
   "metadata": {},
   "outputs": [
    {
     "name": "stdout",
     "output_type": "stream",
     "text": [
      "+-----+\n",
      "| name|\n",
      "+-----+\n",
      "|Cindy|\n",
      "+-----+\n",
      "\n"
     ]
    }
   ],
   "source": [
    "df.filter(\"sales<90\").select('name').show()"
   ]
  },
  {
   "cell_type": "code",
   "execution_count": 22,
   "id": "72586ef5",
   "metadata": {},
   "outputs": [
    {
     "name": "stdout",
     "output_type": "stream",
     "text": [
      "+----+-----+\n",
      "|name|sales|\n",
      "+----+-----+\n",
      "|Carl|  230|\n",
      "+----+-----+\n",
      "\n"
     ]
    }
   ],
   "source": [
    "df.filter((df['name']=='Carl')| ~(df['sales']<101)).show()"
   ]
  },
  {
   "cell_type": "code",
   "execution_count": 30,
   "id": "517c6b1b",
   "metadata": {},
   "outputs": [
    {
     "name": "stdout",
     "output_type": "stream",
     "text": [
      "+-----+\n",
      "| name|\n",
      "+-----+\n",
      "| John|\n",
      "|Cindy|\n",
      "| Carl|\n",
      "+-----+\n",
      "\n"
     ]
    }
   ],
   "source": [
    "df.select('name').show()"
   ]
  },
  {
   "cell_type": "code",
   "execution_count": 39,
   "id": "e0d69a5e",
   "metadata": {},
   "outputs": [
    {
     "data": {
      "text/plain": [
       "[Row(name='John', sales=100)]"
      ]
     },
     "execution_count": 39,
     "metadata": {},
     "output_type": "execute_result"
    }
   ],
   "source": [
    "df.head(1)"
   ]
  },
  {
   "cell_type": "code",
   "execution_count": 40,
   "id": "8b6a5197",
   "metadata": {},
   "outputs": [
    {
     "name": "stdout",
     "output_type": "stream",
     "text": [
      "+-----+-----+---------+\n",
      "| name|sales|dob-sales|\n",
      "+-----+-----+---------+\n",
      "| John|  100|      200|\n",
      "|Cindy|   86|      172|\n",
      "| Carl|  230|      460|\n",
      "+-----+-----+---------+\n",
      "\n"
     ]
    }
   ],
   "source": [
    "df.withColumn('dob-sales',df['sales']*2).show()"
   ]
  },
  {
   "cell_type": "code",
   "execution_count": 41,
   "id": "df5142e8",
   "metadata": {
    "scrolled": true
   },
   "outputs": [
    {
     "name": "stdout",
     "output_type": "stream",
     "text": [
      "+------+-----+\n",
      "|f_name|sales|\n",
      "+------+-----+\n",
      "|  John|  100|\n",
      "| Cindy|   86|\n",
      "|  Carl|  230|\n",
      "+------+-----+\n",
      "\n"
     ]
    }
   ],
   "source": [
    "df.withColumnRenamed('name','f_name').show()"
   ]
  },
  {
   "cell_type": "markdown",
   "id": "76e3df20",
   "metadata": {},
   "source": [
    "use sql in spark"
   ]
  },
  {
   "cell_type": "code",
   "execution_count": 42,
   "id": "32fc0cd3",
   "metadata": {},
   "outputs": [],
   "source": [
    "df.createOrReplaceTempView('data')"
   ]
  },
  {
   "cell_type": "code",
   "execution_count": 56,
   "id": "cd570008",
   "metadata": {},
   "outputs": [
    {
     "name": "stdout",
     "output_type": "stream",
     "text": [
      "+-----+-----+\n",
      "| name|sales|\n",
      "+-----+-----+\n",
      "| Carl|  230|\n",
      "|Cindy|   86|\n",
      "| John|  100|\n",
      "+-----+-----+\n",
      "\n"
     ]
    }
   ],
   "source": [
    "spark.sql('select * from data order by name ').show()"
   ]
  },
  {
   "cell_type": "code",
   "execution_count": 44,
   "id": "b1224d30",
   "metadata": {},
   "outputs": [
    {
     "name": "stdout",
     "output_type": "stream",
     "text": [
      "+-----+-----+\n",
      "| name|sales|\n",
      "+-----+-----+\n",
      "| John|  100|\n",
      "|Cindy|   86|\n",
      "| Carl|  230|\n",
      "+-----+-----+\n",
      "\n"
     ]
    }
   ],
   "source": [
    "results.show()"
   ]
  },
  {
   "cell_type": "code",
   "execution_count": 52,
   "id": "e499c776",
   "metadata": {},
   "outputs": [
    {
     "name": "stdout",
     "output_type": "stream",
     "text": [
      "root\n",
      " |-- name: string (nullable = true)\n",
      " |-- sales: integer (nullable = true)\n",
      "\n"
     ]
    }
   ],
   "source": [
    "df.printSchema()"
   ]
  },
  {
   "cell_type": "code",
   "execution_count": 60,
   "id": "7ff7d98a",
   "metadata": {},
   "outputs": [],
   "source": [
    "from pyspark.sql.functions import avg,format_number"
   ]
  },
  {
   "cell_type": "code",
   "execution_count": 64,
   "id": "25f98df6",
   "metadata": {},
   "outputs": [
    {
     "name": "stdout",
     "output_type": "stream",
     "text": [
      "+------+\n",
      "|   avg|\n",
      "+------+\n",
      "|138.67|\n",
      "+------+\n",
      "\n"
     ]
    }
   ],
   "source": [
    "average=df.select(avg('sales').alias('avg'))\n",
    "average.select(format_number('avg',2).alias('avg')).show()"
   ]
  },
  {
   "cell_type": "code",
   "execution_count": 68,
   "id": "77fc48ef",
   "metadata": {},
   "outputs": [
    {
     "name": "stdout",
     "output_type": "stream",
     "text": [
      "+-----+-----+\n",
      "| name|sales|\n",
      "+-----+-----+\n",
      "| Carl|  230|\n",
      "| John|  100|\n",
      "|Cindy|   86|\n",
      "+-----+-----+\n",
      "\n"
     ]
    }
   ],
   "source": [
    "df.orderBy(df['sales'].desc()).show()"
   ]
  },
  {
   "cell_type": "code",
   "execution_count": 69,
   "id": "7bec2049",
   "metadata": {},
   "outputs": [],
   "source": [
    "df.createOrReplaceTempView('data')"
   ]
  },
  {
   "cell_type": "code",
   "execution_count": 71,
   "id": "b794ec9d",
   "metadata": {},
   "outputs": [
    {
     "name": "stdout",
     "output_type": "stream",
     "text": [
      "+------------------+\n",
      "|               avg|\n",
      "+------------------+\n",
      "|138.66666666666666|\n",
      "+------------------+\n",
      "\n"
     ]
    }
   ],
   "source": [
    "spark.sql(\"select avg(sales) as avg from data\").show()"
   ]
  },
  {
   "cell_type": "code",
   "execution_count": null,
   "id": "48027f2f",
   "metadata": {},
   "outputs": [],
   "source": []
  }
 ],
 "metadata": {
  "kernelspec": {
   "display_name": "Python 3 (ipykernel)",
   "language": "python",
   "name": "python3"
  },
  "language_info": {
   "codemirror_mode": {
    "name": "ipython",
    "version": 3
   },
   "file_extension": ".py",
   "mimetype": "text/x-python",
   "name": "python",
   "nbconvert_exporter": "python",
   "pygments_lexer": "ipython3",
   "version": "3.10.0"
  }
 },
 "nbformat": 4,
 "nbformat_minor": 5
}
